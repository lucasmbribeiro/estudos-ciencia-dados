{
 "cells": [
  {
   "cell_type": "code",
   "execution_count": null,
   "metadata": {},
   "outputs": [],
   "source": [
    "import pandas as pd\n",
    "import numpy as np\n",
    "\n",
    "#Importa os dados\n",
    "df = pd.read_csv('weatherAUS.csv')\n",
    "\n",
    "#Cria uma coluna de ano\n",
    "df['year'] = pd.to_datetime(df['Date']).dt.year\n",
    "\n",
    "#Faz um filtro entre 2014 e 2016 e que a cidade seja Sydney\n",
    "s = (((df['year'] >= 2014) & (df['year'] <= 2016) ) & (df['Location'] == 'Sydney'))\n",
    "\n",
    "#Cria um novo DataFrame filtrado\n",
    "df = pd.DataFrame(df[s])\n",
    "\n",
    "#Limita as colunas para as que precisamos\n",
    "df = pd.DataFrame(df.loc[:, [\"Date\", \"Location\",\"MinTemp\", \"MaxTemp\", \"Rainfall\", \"Evaporation\", \"Sunshine\", \"RainToday\"]] )\n",
    "\n",
    "#Ajusta a coluna RainToday para 0 ou 1\n",
    "df['RainToday'] = np.where(df['RainToday'] == 'No', 0, 1)\n",
    "\n",
    "#Drop valores nulos no DF\n",
    "df = df.dropna()\n",
    "\n",
    "# Salva novo arquivo\n",
    "df.to_csv('rain_sydney.csv', sep=';', index=False)"
   ]
  }
 ],
 "metadata": {
  "kernelspec": {
   "display_name": "Python 3",
   "language": "python",
   "name": "python3"
  },
  "language_info": {
   "codemirror_mode": {
    "name": "ipython",
    "version": 3
   },
   "file_extension": ".py",
   "mimetype": "text/x-python",
   "name": "python",
   "nbconvert_exporter": "python",
   "pygments_lexer": "ipython3",
   "version": "3.7.6"
  }
 },
 "nbformat": 4,
 "nbformat_minor": 4
}
