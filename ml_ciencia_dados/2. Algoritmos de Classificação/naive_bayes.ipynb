{
 "cells": [
  {
   "cell_type": "code",
   "execution_count": 1,
   "source": [
    "import pandas as pd\r\n",
    "import pickle"
   ],
   "outputs": [],
   "metadata": {}
  },
  {
   "cell_type": "code",
   "execution_count": 2,
   "source": [
    "with open('..\\Base de Dados\\census.pkl', mode = 'rb') as f:\r\n",
    "    X_census_train, y_census_train, X_census_test, y_census_test = pickle.load(f)"
   ],
   "outputs": [],
   "metadata": {}
  },
  {
   "cell_type": "code",
   "execution_count": 3,
   "source": [
    "X_census_train"
   ],
   "outputs": [
    {
     "output_type": "execute_result",
     "data": {
      "text/plain": [
       "array([[-0.2444502 , -0.17429511, -0.26209736, ..., -0.14592048,\n",
       "        -0.21665953, -0.03542945],\n",
       "       [-0.2444502 , -0.17429511, -0.26209736, ..., -0.14592048,\n",
       "        -0.21665953,  3.20416118],\n",
       "       [-0.2444502 , -0.17429511,  3.81537614, ..., -0.14592048,\n",
       "        -0.21665953, -0.03542945],\n",
       "       ...,\n",
       "       [-0.2444502 , -0.17429511, -0.26209736, ..., -0.14592048,\n",
       "        -0.21665953, -0.03542945],\n",
       "       [-0.2444502 , -0.17429511,  3.81537614, ...,  0.89508344,\n",
       "        -0.21665953,  0.36951938],\n",
       "       [-0.2444502 , -0.17429511, -0.26209736, ...,  0.20572978,\n",
       "        -0.21665953,  0.61248868]])"
      ]
     },
     "metadata": {},
     "execution_count": 3
    }
   ],
   "metadata": {}
  },
  {
   "cell_type": "code",
   "execution_count": 17,
   "source": [
    "from sklearn.naive_bayes import GaussianNB"
   ],
   "outputs": [],
   "metadata": {}
  },
  {
   "cell_type": "markdown",
   "source": [
    "Instancia a classe do Naive Bayes"
   ],
   "metadata": {}
  },
  {
   "cell_type": "code",
   "execution_count": 18,
   "source": [
    "naive_census = GaussianNB()\r\n",
    "naive_census.fit(X_census_train, y_census_train)"
   ],
   "outputs": [
    {
     "output_type": "execute_result",
     "data": {
      "text/plain": [
       "GaussianNB()"
      ]
     },
     "metadata": {},
     "execution_count": 18
    }
   ],
   "metadata": {}
  },
  {
   "cell_type": "code",
   "execution_count": 19,
   "source": [
    "previsoes = naive_census.predict(X_censust_test)\r\n",
    "previsoes"
   ],
   "outputs": [
    {
     "output_type": "execute_result",
     "data": {
      "text/plain": [
       "array([' >50K', ' >50K', ' >50K', ..., ' <=50K', ' >50K', ' >50K'],\n",
       "      dtype='<U6')"
      ]
     },
     "metadata": {},
     "execution_count": 19
    }
   ],
   "metadata": {}
  },
  {
   "cell_type": "code",
   "execution_count": 20,
   "source": [
    "y_census_test"
   ],
   "outputs": [
    {
     "output_type": "execute_result",
     "data": {
      "text/plain": [
       "array([' <=50K', ' <=50K', ' <=50K', ..., ' <=50K', ' <=50K', ' <=50K'],\n",
       "      dtype='<U6')"
      ]
     },
     "metadata": {},
     "execution_count": 20
    }
   ],
   "metadata": {}
  },
  {
   "cell_type": "code",
   "execution_count": 29,
   "source": [
    "from sklearn.metrics import accuracy_score, confusion_matrix, classification_report"
   ],
   "outputs": [],
   "metadata": {}
  },
  {
   "cell_type": "code",
   "execution_count": 24,
   "source": [
    "accuracy_score(y_census_test, previsoes)"
   ],
   "outputs": [
    {
     "output_type": "execute_result",
     "data": {
      "text/plain": [
       "0.4767656090071648"
      ]
     },
     "metadata": {},
     "execution_count": 24
    }
   ],
   "metadata": {}
  },
  {
   "cell_type": "code",
   "execution_count": 27,
   "source": [
    "confusion_matrix(y_census_test, previsoes)"
   ],
   "outputs": [
    {
     "output_type": "execute_result",
     "data": {
      "text/plain": [
       "array([[1172, 2521],\n",
       "       [  35, 1157]], dtype=int64)"
      ]
     },
     "metadata": {},
     "execution_count": 27
    }
   ],
   "metadata": {}
  },
  {
   "cell_type": "code",
   "execution_count": 31,
   "source": [
    "print(classification_report(y_census_test, previsoes))"
   ],
   "outputs": [
    {
     "output_type": "stream",
     "name": "stdout",
     "text": [
      "              precision    recall  f1-score   support\n",
      "\n",
      "       <=50K       0.97      0.32      0.48      3693\n",
      "        >50K       0.31      0.97      0.48      1192\n",
      "\n",
      "    accuracy                           0.48      4885\n",
      "   macro avg       0.64      0.64      0.48      4885\n",
      "weighted avg       0.81      0.48      0.48      4885\n",
      "\n"
     ]
    }
   ],
   "metadata": {}
  },
  {
   "cell_type": "markdown",
   "source": [
    "recall = % que o algoritimo consegue identificar 0.97% das pessoas que ganham >50k\r\n",
    "\r\n",
    "precision = Quando identificado, a precisão de acerto é de 0.31%\r\n"
   ],
   "metadata": {}
  },
  {
   "cell_type": "markdown",
   "source": [],
   "metadata": {}
  }
 ],
 "metadata": {
  "orig_nbformat": 4,
  "language_info": {
   "name": "python",
   "version": "3.9.6",
   "mimetype": "text/x-python",
   "codemirror_mode": {
    "name": "ipython",
    "version": 3
   },
   "pygments_lexer": "ipython3",
   "nbconvert_exporter": "python",
   "file_extension": ".py"
  },
  "kernelspec": {
   "name": "python3",
   "display_name": "Python 3.9.6 64-bit ('analise_dados': venv)"
  },
  "interpreter": {
   "hash": "6f2973cf9f6a74a9dc85aa249d11a5b3195f441cfa247f0343c399bd55236841"
  }
 },
 "nbformat": 4,
 "nbformat_minor": 2
}