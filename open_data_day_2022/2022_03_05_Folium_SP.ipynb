{
 "cells": [
  {
   "cell_type": "code",
   "execution_count": 2,
   "id": "33ca9676",
   "metadata": {},
   "outputs": [],
   "source": [
    "import pandas as pd\n",
    "import numpy as np\n",
    "import folium \n",
    "from folium import plugins\n",
    "import seaborn as sns"
   ]
  },
  {
   "cell_type": "code",
   "execution_count": 3,
   "id": "d3f07779",
   "metadata": {},
   "outputs": [],
   "source": [
    "df_casos = pd.read_csv(\n",
    "    '20220220_dados_covid_municipios_sp.csv' , # caminho do arquivo\n",
    "    encoding= 'iso-8859-1', # encoding, forma que o arquivo foi salvo (caracteres)\n",
    "    sep = ';' #separados das colunas\n",
    ")"
   ]
  },
  {
   "cell_type": "code",
   "execution_count": 4,
   "id": "4289c7a2",
   "metadata": {},
   "outputs": [
    {
     "data": {
      "text/plain": [
       "array(['Marília', 'São José do Rio Preto', 'São João da Boa Vista',\n",
       "       'Campinas', 'Bauru', 'Piracicaba', 'Sorocaba',\n",
       "       'Presidente Prudente', 'Barretos', 'Ribeirão Preto', 'Araçatuba',\n",
       "       'Araraquara', 'Taubaté', 'Franca', 'Grande São Paulo', 'Registro',\n",
       "       'Baixada Santista', nan], dtype=object)"
      ]
     },
     "execution_count": 4,
     "metadata": {},
     "output_type": "execute_result"
    }
   ],
   "source": [
    "df_casos['nome_drs'].unique()"
   ]
  },
  {
   "cell_type": "code",
   "execution_count": 5,
   "id": "ddb3344d",
   "metadata": {},
   "outputs": [],
   "source": [
    "df_casos['nome_drs'] = np.where(df_casos['nome_drs'].isnull() == True, 'Sem DRS', df_casos['nome_drs'])"
   ]
  },
  {
   "cell_type": "code",
   "execution_count": 6,
   "id": "a62f6800",
   "metadata": {},
   "outputs": [],
   "source": [
    "# cria um dataframe em branco com as colunas definidas\n",
    "df_geo = pd.DataFrame({'CD_MUN': [0], 'NM_MUN': [0], 'SIGLA_UF': [0], 'AREA_KM2': [0], 'geometry': [0]})\n",
    "\n",
    "# looping para ler todas as linhas do arquivo municipios_sp.json\n",
    "for idx, info in pd.read_json('municipios_sp.json').iterrows():\n",
    "    \n",
    "    # transforma a coluna features em um dicionario\n",
    "    dict_info = dict(info['features'])\n",
    "    \n",
    "    # adiciona as linhas do dicionario no dataframe\n",
    "    df_geo = df_geo.append({\n",
    "        'CD_MUN': dict_info['properties']['CD_MUN'],\n",
    "        'NM_MUN': dict_info['properties']['NM_MUN'],\n",
    "        'SIGLA_UF': dict_info['properties']['SIGLA_UF'],\n",
    "        'AREA_KM2': dict_info['properties']['AREA_KM2'],\n",
    "        'geometry': dict_info['geometry']\n",
    "        \n",
    "    } ,ignore_index=True)"
   ]
  },
  {
   "cell_type": "code",
   "execution_count": 7,
   "id": "0619473b",
   "metadata": {},
   "outputs": [],
   "source": [
    "df_geo['CD_MUN'] = df_geo['CD_MUN'].astype(int)\n",
    "df_casos['codigo_ibge'] = df_casos['codigo_ibge'].astype(int)\n",
    "\n",
    "# Vamos atualizar o df_geo\n",
    "df_geo = pd.merge(\n",
    "    df_geo,\n",
    "    \n",
    "    #agrupa o df_casos para somar as colunas casos e obitos\n",
    "    df_casos.groupby(['codigo_ibge', 'nome_drs']).agg({'casos_novos': np.sum, 'obitos_novos': np.sum}).reset_index(),\n",
    "    \n",
    "    # une os dois dataframes com base nas informacoes do codigo do ibge \n",
    "    how = 'inner',\n",
    "    left_on = 'CD_MUN',\n",
    "    right_on = 'codigo_ibge'\n",
    ")"
   ]
  },
  {
   "cell_type": "code",
   "execution_count": 8,
   "id": "f70b5409",
   "metadata": {},
   "outputs": [
    {
     "data": {
      "text/html": [
       "<div>\n",
       "<style scoped>\n",
       "    .dataframe tbody tr th:only-of-type {\n",
       "        vertical-align: middle;\n",
       "    }\n",
       "\n",
       "    .dataframe tbody tr th {\n",
       "        vertical-align: top;\n",
       "    }\n",
       "\n",
       "    .dataframe thead th {\n",
       "        text-align: right;\n",
       "    }\n",
       "</style>\n",
       "<table border=\"1\" class=\"dataframe\">\n",
       "  <thead>\n",
       "    <tr style=\"text-align: right;\">\n",
       "      <th></th>\n",
       "      <th>CD_MUN</th>\n",
       "      <th>NM_MUN</th>\n",
       "      <th>SIGLA_UF</th>\n",
       "      <th>AREA_KM2</th>\n",
       "      <th>geometry</th>\n",
       "      <th>codigo_ibge</th>\n",
       "      <th>nome_drs</th>\n",
       "      <th>casos_novos</th>\n",
       "      <th>obitos_novos</th>\n",
       "    </tr>\n",
       "  </thead>\n",
       "  <tbody>\n",
       "    <tr>\n",
       "      <th>0</th>\n",
       "      <td>3500105</td>\n",
       "      <td>Adamantina</td>\n",
       "      <td>SP</td>\n",
       "      <td>411.987</td>\n",
       "      <td>{'type': 'Polygon', 'coordinates': [[[-51.0542...</td>\n",
       "      <td>3500105</td>\n",
       "      <td>Marília</td>\n",
       "      <td>6222</td>\n",
       "      <td>159</td>\n",
       "    </tr>\n",
       "    <tr>\n",
       "      <th>1</th>\n",
       "      <td>3500204</td>\n",
       "      <td>Adolfo</td>\n",
       "      <td>SP</td>\n",
       "      <td>211.055</td>\n",
       "      <td>{'type': 'Polygon', 'coordinates': [[[-49.6579...</td>\n",
       "      <td>3500204</td>\n",
       "      <td>São José do Rio Preto</td>\n",
       "      <td>636</td>\n",
       "      <td>22</td>\n",
       "    </tr>\n",
       "    <tr>\n",
       "      <th>2</th>\n",
       "      <td>3500303</td>\n",
       "      <td>Aguaí</td>\n",
       "      <td>SP</td>\n",
       "      <td>474.554</td>\n",
       "      <td>{'type': 'Polygon', 'coordinates': [[[-46.9764...</td>\n",
       "      <td>3500303</td>\n",
       "      <td>São João da Boa Vista</td>\n",
       "      <td>5386</td>\n",
       "      <td>126</td>\n",
       "    </tr>\n",
       "    <tr>\n",
       "      <th>3</th>\n",
       "      <td>3500402</td>\n",
       "      <td>Águas da Prata</td>\n",
       "      <td>SP</td>\n",
       "      <td>142.673</td>\n",
       "      <td>{'type': 'Polygon', 'coordinates': [[[-46.7350...</td>\n",
       "      <td>3500402</td>\n",
       "      <td>São João da Boa Vista</td>\n",
       "      <td>1218</td>\n",
       "      <td>35</td>\n",
       "    </tr>\n",
       "    <tr>\n",
       "      <th>4</th>\n",
       "      <td>3500501</td>\n",
       "      <td>Águas de Lindóia</td>\n",
       "      <td>SP</td>\n",
       "      <td>60.126</td>\n",
       "      <td>{'type': 'Polygon', 'coordinates': [[[-46.6061...</td>\n",
       "      <td>3500501</td>\n",
       "      <td>Campinas</td>\n",
       "      <td>3745</td>\n",
       "      <td>57</td>\n",
       "    </tr>\n",
       "  </tbody>\n",
       "</table>\n",
       "</div>"
      ],
      "text/plain": [
       "    CD_MUN            NM_MUN SIGLA_UF  AREA_KM2  \\\n",
       "0  3500105        Adamantina       SP   411.987   \n",
       "1  3500204            Adolfo       SP   211.055   \n",
       "2  3500303             Aguaí       SP   474.554   \n",
       "3  3500402    Águas da Prata       SP   142.673   \n",
       "4  3500501  Águas de Lindóia       SP    60.126   \n",
       "\n",
       "                                            geometry  codigo_ibge  \\\n",
       "0  {'type': 'Polygon', 'coordinates': [[[-51.0542...      3500105   \n",
       "1  {'type': 'Polygon', 'coordinates': [[[-49.6579...      3500204   \n",
       "2  {'type': 'Polygon', 'coordinates': [[[-46.9764...      3500303   \n",
       "3  {'type': 'Polygon', 'coordinates': [[[-46.7350...      3500402   \n",
       "4  {'type': 'Polygon', 'coordinates': [[[-46.6061...      3500501   \n",
       "\n",
       "                nome_drs  casos_novos  obitos_novos  \n",
       "0                Marília         6222           159  \n",
       "1  São José do Rio Preto          636            22  \n",
       "2  São João da Boa Vista         5386           126  \n",
       "3  São João da Boa Vista         1218            35  \n",
       "4               Campinas         3745            57  "
      ]
     },
     "execution_count": 8,
     "metadata": {},
     "output_type": "execute_result"
    }
   ],
   "source": [
    "df_geo.head()"
   ]
  },
  {
   "cell_type": "code",
   "execution_count": 11,
   "id": "bad21af1",
   "metadata": {},
   "outputs": [],
   "source": [
    "def style_3(feature):\n",
    "    tt = dict(feature['geometry'])\n",
    "    var = df_geo[df_geo['geometry'] == tt].iloc[0][VAR_METRICA] \n",
    "    \n",
    "    if var <= df_geo[VAR_METRICA].quantile(0.25):\n",
    "        color_ = '#00b4d8'\n",
    "    elif var > df_geo[VAR_METRICA].quantile(0.25) and var <= df_geo[VAR_METRICA].quantile(0.50):\n",
    "        color_ = '#0077b6'\n",
    "    elif var >= df_geo[VAR_METRICA].quantile(0.50) and var <= df_geo[VAR_METRICA].quantile(0.75):\n",
    "        color_ = '#023e8a'\n",
    "    elif var > df_geo[VAR_METRICA].quantile(0.75):\n",
    "        color_ = '#03045e'\n",
    "\n",
    "    return {'fillColor': color_,'color': 'white','weight': 1, 'fillOpacity': 0.8} \n",
    "\n",
    "    \n",
    "mapa = folium.Map( location=[-22.2298654,-46.4639913], zoom_start=7, tiles='CartoDB positron')\n",
    "\n",
    "VAR_METRICA = 'casos_novos'\n",
    "\n",
    "for nm_drs in df_geo['nome_drs'].unique().tolist():\n",
    "    casos_ =  folium.FeatureGroup(name = nm_drs).add_to(mapa)\n",
    "    for idx, info in df_geo[ df_geo['nome_drs'] == nm_drs ].iterrows():\n",
    "        folium.GeoJson(\n",
    "            info['geometry'], \n",
    "            style_function = style_3,\n",
    "            tooltip = \"{0}: {1} Casos\".format(info['NM_MUN'], info['casos_novos'])\n",
    "        ).add_to(casos_)\n",
    "    \n",
    "folium.LayerControl().add_to(mapa)\n",
    "\n",
    "mapa.save('estado_sao_paulo_casos.html')"
   ]
  },
  {
   "cell_type": "code",
   "execution_count": null,
   "id": "d0da1baf",
   "metadata": {},
   "outputs": [],
   "source": []
  }
 ],
 "metadata": {
  "kernelspec": {
   "display_name": "analise_dados",
   "language": "python",
   "name": "analise_dados"
  },
  "language_info": {
   "codemirror_mode": {
    "name": "ipython",
    "version": 3
   },
   "file_extension": ".py",
   "mimetype": "text/x-python",
   "name": "python",
   "nbconvert_exporter": "python",
   "pygments_lexer": "ipython3",
   "version": "3.9.6"
  }
 },
 "nbformat": 4,
 "nbformat_minor": 5
}
