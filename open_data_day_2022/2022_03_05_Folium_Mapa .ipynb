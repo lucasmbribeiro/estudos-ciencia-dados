{
 "cells": [
  {
   "cell_type": "markdown",
   "id": "0f9ac85b",
   "metadata": {},
   "source": [
    "# OPEN DATA DAY 2022\n",
    "---"
   ]
  },
  {
   "cell_type": "markdown",
   "id": "5da233f4",
   "metadata": {},
   "source": [
    "## Importa as bibliotecas necessárias para a análise\n",
    "\n",
    "```\n",
    "pip install pandas\n",
    "pip install numpy\n",
    "pip install folium\n",
    "pip install seaborn\n",
    "```"
   ]
  },
  {
   "cell_type": "code",
   "execution_count": 12,
   "id": "085b65a6",
   "metadata": {},
   "outputs": [],
   "source": [
    "import pandas as pd\n",
    "import numpy as np\n",
    "import folium \n",
    "from folium import plugins\n",
    "import seaborn as sns"
   ]
  },
  {
   "cell_type": "markdown",
   "id": "43c801e5",
   "metadata": {},
   "source": [
    "## Le os dados de casos e obítos do estado de São Paulo"
   ]
  },
  {
   "cell_type": "code",
   "execution_count": 2,
   "id": "0491ca4e",
   "metadata": {},
   "outputs": [],
   "source": [
    "df_casos = pd.read_csv(\n",
    "    '20220220_dados_covid_municipios_sp.csv' , # caminho do arquivo\n",
    "    encoding= 'iso-8859-1', # encoding, forma que o arquivo foi salvo (caracteres)\n",
    "    sep = ';' #separados das colunas\n",
    ")"
   ]
  },
  {
   "cell_type": "markdown",
   "id": "033fa17e",
   "metadata": {},
   "source": [
    "### Filtra o DataFrame para as cidades da Baixada Santista"
   ]
  },
  {
   "cell_type": "code",
   "execution_count": 6,
   "id": "db99fc1f",
   "metadata": {},
   "outputs": [],
   "source": [
    "# filtra a coluna nome_drs para Baixada Santista e atualiza o df_casos só com as informações da baixada\n",
    "df_casos = df_casos[ df_casos['nome_drs'] == 'Baixada Santista' ]"
   ]
  },
  {
   "cell_type": "markdown",
   "id": "5893a7ac",
   "metadata": {},
   "source": [
    "## Le o json com os poligonos das cidades do estado de São Paulo"
   ]
  },
  {
   "cell_type": "code",
   "execution_count": 7,
   "id": "08674c76",
   "metadata": {},
   "outputs": [],
   "source": [
    "# cria um dataframe em branco com as colunas definidas\n",
    "df_geo = pd.DataFrame({'CD_MUN': [0], 'NM_MUN': [0], 'SIGLA_UF': [0], 'AREA_KM2': [0], 'geometry': [0]})\n",
    "\n",
    "# looping para ler todas as linhas do arquivo municipios_sp.json\n",
    "for idx, info in pd.read_json('municipios_sp.json').iterrows():\n",
    "    \n",
    "    # transforma a coluna features em um dicionario\n",
    "    dict_info = dict(info['features'])\n",
    "    \n",
    "    # adiciona as linhas do dicionario no dataframe\n",
    "    df_geo = df_geo.append({\n",
    "        'CD_MUN': dict_info['properties']['CD_MUN'],\n",
    "        'NM_MUN': dict_info['properties']['NM_MUN'],\n",
    "        'SIGLA_UF': dict_info['properties']['SIGLA_UF'],\n",
    "        'AREA_KM2': dict_info['properties']['AREA_KM2'],\n",
    "        'geometry': dict_info['geometry']\n",
    "        \n",
    "    } ,ignore_index=True)"
   ]
  },
  {
   "cell_type": "markdown",
   "id": "6a25da25",
   "metadata": {},
   "source": [
    "### Muda o tipo de dados das colunas"
   ]
  },
  {
   "cell_type": "code",
   "execution_count": 8,
   "id": "5d662e33",
   "metadata": {},
   "outputs": [],
   "source": [
    "df_geo['CD_MUN'] = df_geo['CD_MUN'].astype(int)\n",
    "df_casos['codigo_ibge'] = df_casos['codigo_ibge'].astype(int)"
   ]
  },
  {
   "cell_type": "markdown",
   "id": "21c1b014",
   "metadata": {},
   "source": [
    "### Cria um DataFrame com as informações dos poligonos e a soma de casos e obítos por cidade"
   ]
  },
  {
   "cell_type": "code",
   "execution_count": 9,
   "id": "de34b6d9",
   "metadata": {},
   "outputs": [],
   "source": [
    "# Vamos atualizar o df_geo\n",
    "df_geo = pd.merge(\n",
    "    df_geo,\n",
    "    \n",
    "    #agrupa o df_casos para somar as colunas casos e obitos\n",
    "    df_casos.groupby(['codigo_ibge']).agg({'casos_novos': np.sum, 'obitos_novos': np.sum}).reset_index(),\n",
    "    \n",
    "    # une os dois dataframes com base nas informacoes do codigo do ibge \n",
    "    how = 'inner',\n",
    "    left_on = 'CD_MUN',\n",
    "    right_on = 'codigo_ibge'\n",
    ")"
   ]
  },
  {
   "cell_type": "code",
   "execution_count": 39,
   "id": "f0b932eb",
   "metadata": {},
   "outputs": [
    {
     "data": {
      "text/html": [
       "<div>\n",
       "<style scoped>\n",
       "    .dataframe tbody tr th:only-of-type {\n",
       "        vertical-align: middle;\n",
       "    }\n",
       "\n",
       "    .dataframe tbody tr th {\n",
       "        vertical-align: top;\n",
       "    }\n",
       "\n",
       "    .dataframe thead th {\n",
       "        text-align: right;\n",
       "    }\n",
       "</style>\n",
       "<table border=\"1\" class=\"dataframe\">\n",
       "  <thead>\n",
       "    <tr style=\"text-align: right;\">\n",
       "      <th></th>\n",
       "      <th>CD_MUN</th>\n",
       "      <th>NM_MUN</th>\n",
       "      <th>SIGLA_UF</th>\n",
       "      <th>AREA_KM2</th>\n",
       "      <th>geometry</th>\n",
       "      <th>codigo_ibge</th>\n",
       "      <th>casos_novos</th>\n",
       "      <th>obitos_novos</th>\n",
       "    </tr>\n",
       "  </thead>\n",
       "  <tbody>\n",
       "    <tr>\n",
       "      <th>0</th>\n",
       "      <td>3506359</td>\n",
       "      <td>Bertioga</td>\n",
       "      <td>SP</td>\n",
       "      <td>491.546</td>\n",
       "      <td>{'type': 'MultiPolygon', 'coordinates': [[[[-4...</td>\n",
       "      <td>3506359</td>\n",
       "      <td>7343</td>\n",
       "      <td>183</td>\n",
       "    </tr>\n",
       "    <tr>\n",
       "      <th>1</th>\n",
       "      <td>3513504</td>\n",
       "      <td>Cubatão</td>\n",
       "      <td>SP</td>\n",
       "      <td>142.879</td>\n",
       "      <td>{'type': 'Polygon', 'coordinates': [[[-46.3328...</td>\n",
       "      <td>3513504</td>\n",
       "      <td>14853</td>\n",
       "      <td>524</td>\n",
       "    </tr>\n",
       "    <tr>\n",
       "      <th>2</th>\n",
       "      <td>3518701</td>\n",
       "      <td>Guarujá</td>\n",
       "      <td>SP</td>\n",
       "      <td>144.794</td>\n",
       "      <td>{'type': 'MultiPolygon', 'coordinates': [[[[-4...</td>\n",
       "      <td>3518701</td>\n",
       "      <td>22651</td>\n",
       "      <td>1390</td>\n",
       "    </tr>\n",
       "    <tr>\n",
       "      <th>3</th>\n",
       "      <td>3522109</td>\n",
       "      <td>Itanhaém</td>\n",
       "      <td>SP</td>\n",
       "      <td>601.711</td>\n",
       "      <td>{'type': 'MultiPolygon', 'coordinates': [[[[-4...</td>\n",
       "      <td>3522109</td>\n",
       "      <td>7200</td>\n",
       "      <td>372</td>\n",
       "    </tr>\n",
       "    <tr>\n",
       "      <th>4</th>\n",
       "      <td>3531100</td>\n",
       "      <td>Mongaguá</td>\n",
       "      <td>SP</td>\n",
       "      <td>143.205</td>\n",
       "      <td>{'type': 'Polygon', 'coordinates': [[[-46.6004...</td>\n",
       "      <td>3531100</td>\n",
       "      <td>2350</td>\n",
       "      <td>96</td>\n",
       "    </tr>\n",
       "  </tbody>\n",
       "</table>\n",
       "</div>"
      ],
      "text/plain": [
       "    CD_MUN    NM_MUN SIGLA_UF  AREA_KM2  \\\n",
       "0  3506359  Bertioga       SP   491.546   \n",
       "1  3513504   Cubatão       SP   142.879   \n",
       "2  3518701   Guarujá       SP   144.794   \n",
       "3  3522109  Itanhaém       SP   601.711   \n",
       "4  3531100  Mongaguá       SP   143.205   \n",
       "\n",
       "                                            geometry  codigo_ibge  \\\n",
       "0  {'type': 'MultiPolygon', 'coordinates': [[[[-4...      3506359   \n",
       "1  {'type': 'Polygon', 'coordinates': [[[-46.3328...      3513504   \n",
       "2  {'type': 'MultiPolygon', 'coordinates': [[[[-4...      3518701   \n",
       "3  {'type': 'MultiPolygon', 'coordinates': [[[[-4...      3522109   \n",
       "4  {'type': 'Polygon', 'coordinates': [[[-46.6004...      3531100   \n",
       "\n",
       "   casos_novos  obitos_novos  \n",
       "0         7343           183  \n",
       "1        14853           524  \n",
       "2        22651          1390  \n",
       "3         7200           372  \n",
       "4         2350            96  "
      ]
     },
     "execution_count": 39,
     "metadata": {},
     "output_type": "execute_result"
    }
   ],
   "source": [
    "df_geo.head()"
   ]
  },
  {
   "cell_type": "markdown",
   "id": "7c015f59",
   "metadata": {},
   "source": [
    "---"
   ]
  },
  {
   "cell_type": "code",
   "execution_count": 38,
   "id": "09a37bd5",
   "metadata": {},
   "outputs": [
    {
     "data": {
      "text/plain": [
       "<AxesSubplot:title={'center':'BOX PLOT - CASOS NA BAIXADDA SANTISTA'}, xlabel='casos_novos'>"
      ]
     },
     "execution_count": 38,
     "metadata": {},
     "output_type": "execute_result"
    },
    {
     "data": {
      "image/png": "[encoded data removed]",
      "text/plain": [
       "<Figure size 1152x360 with 1 Axes>"
      ]
     },
     "metadata": {
      "needs_background": "light"
     },
     "output_type": "display_data"
    }
   ],
   "source": [
    "ax = sns.boxplot( data = df_geo, x = 'casos_novos')\n",
    "ax.figure.set_size_inches(16,5)\n",
    "ax.set_title('BOX PLOT - CASOS NA BAIXADDA SANTISTA')\n",
    "ax"
   ]
  },
  {
   "cell_type": "markdown",
   "id": "8d9bf658",
   "metadata": {},
   "source": [
    "## MAPA 01: COLORINDO AS CIDADES DE FORMA MANUAL"
   ]
  },
  {
   "cell_type": "code",
   "execution_count": 48,
   "id": "afa63194",
   "metadata": {},
   "outputs": [],
   "source": [
    "def style(feature):\n",
    "    \n",
    "    # pega a coluna geometry e transforma para um dicionario\n",
    "    tt = dict(feature['geometry'])\n",
    "    \n",
    "    #busca o nome da cidade no df_geo com base na coluna geometry\n",
    "    var = df_geo[df_geo['geometry'] == tt].iloc[0]['NM_MUN'] \n",
    "    \n",
    "    # filtro para definir a cor da cidade\n",
    "    if var == 'Santos':\n",
    "        color_ = '#03045e'\n",
    "    elif var in ['Praia Grande', 'Guarujá', 'São Vicente']:\n",
    "        color_ = '#023e8a'\n",
    "    elif var == 'Cubatão':\n",
    "        color_ = '#0077b6'\n",
    "    elif var in ['Bertioga', 'Peruíbe', 'Itanhaém']:\n",
    "        color_ = '#0077b6'\n",
    "    else:\n",
    "        color_ = '#00b4d8'\n",
    "\n",
    "    # retorna para o mapa qual sera a cor da cidade\n",
    "    return {'fillColor': color_,'color': 'white','weight': 1, 'fillOpacity': 0.8} \n",
    "\n",
    "# defini uma imagem inicial para o mapa (baixada santista), define um zoom para essa localizacao\n",
    "# e um estilo de mapa\n",
    "mapa = folium.Map( location=[-23.947355,-46.3695525], zoom_start=10, tiles='CartoDB positron')\n",
    "\n",
    "# looping para adicionar cada uma das cidades no mapa\n",
    "for idx, info in df_geo.iterrows():\n",
    "    folium.GeoJson(\n",
    "        info['geometry'], # poligono da cidade\n",
    "        style_function = style, #chamada da função do estilo de cores\n",
    "        # nome a ser exibido quando passar o mouse na cidade\n",
    "        tooltip = \"{0}: {1} Casos\".format(info['NM_MUN'], info['casos_novos']) \n",
    "    ).add_to(mapa)\n",
    "\n",
    "# exporta o mapa para html\n",
    "mapa.save('baixada_cor_manual.html')"
   ]
  },
  {
   "cell_type": "markdown",
   "id": "25c6b1ff",
   "metadata": {},
   "source": [
    "## MAPA 02: COLORINDO AS CIDADES COM BASE NOS QUARTIS"
   ]
  },
  {
   "cell_type": "code",
   "execution_count": 49,
   "id": "73cfd5ea",
   "metadata": {},
   "outputs": [],
   "source": [
    "def style_2(feature):\n",
    "    tt = dict(feature['geometry'])\n",
    "    var = df_geo[df_geo['geometry'] == tt].iloc[0]['casos_novos'] \n",
    "    \n",
    "    if var <= df_geo[ 'casos_novos'].quantile(0.25):\n",
    "        color_ = '#00b4d8'\n",
    "    elif var > df_geo[ 'casos_novos'].quantile(0.25) and var <= df_geo[ 'casos_novos'].quantile(0.50):\n",
    "        color_ = '#0077b6'\n",
    "    elif var >= df_geo[ 'casos_novos'].quantile(0.50) and var <= df_geo[ 'casos_novos'].quantile(0.75):\n",
    "        color_ = '#023e8a'\n",
    "    elif var > df_geo[ 'casos_novos'].quantile(0.75):\n",
    "        color_ = '#03045e'\n",
    "\n",
    "    return {'fillColor': color_,'color': 'white','weight': 1, 'fillOpacity': 0.8} \n",
    "\n",
    "\n",
    "    \n",
    "mapa = folium.Map( location=[-23.947355,-46.3695525], zoom_start=10, tiles='CartoDB positron')\n",
    "\n",
    "for idx, info in df_geo.iterrows():\n",
    "    folium.GeoJson(\n",
    "        info['geometry'], \n",
    "        style_function = style_2,\n",
    "        tooltip = \"{0}: {1} Casos\".format(info['NM_MUN'], info['casos_novos'])\n",
    "    ).add_to(mapa)\n",
    "\n",
    "mapa.save('baixada_cor_automatica_v1.html')"
   ]
  },
  {
   "cell_type": "markdown",
   "id": "2ebcd2df",
   "metadata": {},
   "source": [
    "## MAPA 03: ADICIONANDO MAIS DE UMA MÉTRICA"
   ]
  },
  {
   "cell_type": "code",
   "execution_count": 50,
   "id": "ceb07317",
   "metadata": {},
   "outputs": [],
   "source": [
    "def style_3(feature):\n",
    "    tt = dict(feature['geometry'])\n",
    "    var = df_geo[df_geo['geometry'] == tt].iloc[0][VAR_METRICA] \n",
    "    \n",
    "    if var <= df_geo[VAR_METRICA].quantile(0.25):\n",
    "        color_ = '#00b4d8'\n",
    "    elif var > df_geo[VAR_METRICA].quantile(0.25) and var <= df_geo[VAR_METRICA].quantile(0.50):\n",
    "        color_ = '#0077b6'\n",
    "    elif var >= df_geo[VAR_METRICA].quantile(0.50) and var <= df_geo[VAR_METRICA].quantile(0.75):\n",
    "        color_ = '#023e8a'\n",
    "    elif var > df_geo[VAR_METRICA].quantile(0.75):\n",
    "        color_ = '#03045e'\n",
    "\n",
    "    return {'fillColor': color_,'color': 'white','weight': 1, 'fillOpacity': 0.8} \n",
    "\n",
    "    \n",
    "mapa = folium.Map( location=[-23.947355,-46.3695525], zoom_start=5, tiles='CartoDB positron')\n",
    "\n",
    "VAR_METRICA = 'casos_novos'\n",
    "casos_ =  folium.FeatureGroup(name = \"Casos\",).add_to(mapa)\n",
    "for idx, info in df_geo.iterrows():\n",
    "    folium.GeoJson(\n",
    "        info['geometry'], \n",
    "        style_function = style_3,\n",
    "        tooltip = \"{0}: {1} Casos\".format(info['NM_MUN'], info['casos_novos'])\n",
    "    ).add_to(casos_)\n",
    "\n",
    "VAR_METRICA = 'obitos_novos'\n",
    "casos_ =  folium.FeatureGroup(name = \"Obitos\", show = False).add_to(mapa)\n",
    "for idx, info in df_geo.iterrows():\n",
    "    folium.GeoJson(\n",
    "        info['geometry'], \n",
    "        style_function = style_3,\n",
    "        tooltip = \"{0}: {1} Óbitos\".format(info['NM_MUN'], info['obitos_novos'])\n",
    "    ).add_to(casos_)\n",
    "\n",
    "    \n",
    "folium.LayerControl().add_to(mapa)\n",
    "\n",
    "mapa.save('baixada_cor_automatica_v2.html')"
   ]
  },
  {
   "cell_type": "code",
   "execution_count": null,
   "id": "98adb96f",
   "metadata": {},
   "outputs": [],
   "source": [
    "df_casos['']"
   ]
  }
 ],
 "metadata": {
  "kernelspec": {
   "display_name": "analise_dados",
   "language": "python",
   "name": "analise_dados"
  },
  "language_info": {
   "codemirror_mode": {
    "name": "ipython",
    "version": 3
   },
   "file_extension": ".py",
   "mimetype": "text/x-python",
   "name": "python",
   "nbconvert_exporter": "python",
   "pygments_lexer": "ipython3",
   "version": "3.9.6"
  }
 },
 "nbformat": 4,
 "nbformat_minor": 5
}
