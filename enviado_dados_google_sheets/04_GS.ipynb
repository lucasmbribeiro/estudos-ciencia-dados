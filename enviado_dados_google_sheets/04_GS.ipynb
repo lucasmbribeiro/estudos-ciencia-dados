{
 "cells": [
  {
   "cell_type": "markdown",
   "metadata": {},
   "source": [
    "# Exemplo 04\n",
    "\n",
    "## Tendo como base o exemplo 3, construímos um script mais dinâmico para:<br>  __autenticar__, __ler__, __atualizar__ e __criar__ nova planilha.<br> É necessário ter uma credencial de serviço.\n",
    "\n",
    "<br> _Se você não executou o exemplo 03, faça a instalação da lib abaixo_\n",
    "```\n",
    " pip install gspread\n",
    "``` "
   ]
  },
  {
   "cell_type": "markdown",
   "metadata": {},
   "source": [
    "## __Bibliotecas__"
   ]
  },
  {
   "cell_type": "markdown",
   "metadata": {},
   "source": [
    "[__Pandas__](https://pandas.pydata.org/pandas-docs/stable/index.html): Lib para nós ajudar com a manipulação dos dados. <br>\n",
    "[__Gspread__](https://gspread.readthedocs.io/en/latest/index.html): Lib com as funções do GoogleSheets. <br>\n",
    "[__Google auth__](https://google-auth.readthedocs.io/en/latest/reference/google.oauth2.service_account.html): Lib para autenticação."
   ]
  },
  {
   "cell_type": "code",
   "execution_count": 2,
   "metadata": {},
   "outputs": [],
   "source": [
    "import pandas as pd\n",
    "import gspread\n",
    "from google.oauth2.service_account import Credentials"
   ]
  },
  {
   "cell_type": "markdown",
   "metadata": {},
   "source": [
    "## __Função para autenticar no projeto do Google Developer__\n",
    "\n",
    "Link de referência: https://gspread.readthedocs.io/en/latest/oauth2.html#for-bots-using-service-account"
   ]
  },
  {
   "cell_type": "code",
   "execution_count": 16,
   "metadata": {},
   "outputs": [],
   "source": [
    "def cria_credenciais():\n",
    "    scopes = [\n",
    "        'https://www.googleapis.com/auth/spreadsheets',\n",
    "        'https://www.googleapis.com/auth/drive'\n",
    "        ]\n",
    "        \n",
    "    credentials = Credentials.from_service_account_file(\n",
    "            'py013-spread-sheets-5d5449661c4e.json',\n",
    "            scopes=scopes\n",
    "        )\n",
    "    \n",
    "    return gspread.authorize(credentials)"
   ]
  },
  {
   "cell_type": "markdown",
   "metadata": {},
   "source": [
    "## __Função para ler uma planilha__\n",
    "Links de referência: https://gspread.readthedocs.io/en/latest/user-guide.html?#getting-all-values-from-a-row-or-a-column <br>\n",
    "https://gspread.readthedocs.io/en/latest/user-guide.html?#getting-a-cell-value"
   ]
  },
  {
   "cell_type": "code",
   "execution_count": 17,
   "metadata": {},
   "outputs": [],
   "source": [
    "def le_sheets(sample_spreadsheet_id, tab_index):\n",
    "    gc = cria_credenciais()\n",
    "    \n",
    "    gc = gc.open_by_key(sample_spreadsheet_id)\n",
    "    \n",
    "    values = gc.get_worksheet(tab_index).get_all_values()\n",
    "    \n",
    "    df = pd.DataFrame(values)\n",
    "    df.columns = df.iloc[0]\n",
    "    df.drop(df.index[0], inplace=True)         \n",
    "\n",
    "    return df"
   ]
  },
  {
   "cell_type": "code",
   "execution_count": 20,
   "metadata": {},
   "outputs": [],
   "source": [
    "df_notas = le_sheets(\"1GYyp6cLDAhUDFz-itEUmp5lVxpqBJrj0075fjVVk7yM\", 0 )"
   ]
  },
  {
   "cell_type": "markdown",
   "metadata": {},
   "source": [
    "## __Função para atualizar uma planilha__\n",
    "Link de referência: https://gspread.readthedocs.io/en/latest/user-guide.html?#updating-cells"
   ]
  },
  {
   "cell_type": "code",
   "execution_count": 19,
   "metadata": {},
   "outputs": [],
   "source": [
    "def atualiza_sheets(id_aba, id_planilha, df):\n",
    "    gc = cria_credenciais()\n",
    "    \n",
    "    gc = gc.open_by_key(id_planilha)\n",
    "    \n",
    "    sheet = gc.get_worksheet(id_aba)\n",
    "    \n",
    "    sheet.update(([df.columns.values.tolist()] + df.values.tolist()))"
   ]
  },
  {
   "cell_type": "code",
   "execution_count": 21,
   "metadata": {},
   "outputs": [],
   "source": [
    "atualiza_sheets(2, \"1GYyp6cLDAhUDFz-itEUmp5lVxpqBJrj0075fjVVk7yM\", df_notas )"
   ]
  },
  {
   "cell_type": "markdown",
   "metadata": {},
   "source": [
    "## __Função para criar uma nova planilha e atualizar__\n",
    "Link de referência: https://gspread.readthedocs.io/en/latest/user-guide.html?#creating-a-worksheet"
   ]
  },
  {
   "cell_type": "code",
   "execution_count": 24,
   "metadata": {},
   "outputs": [],
   "source": [
    "def cria_insere_sheets(nm_sheet, email_share, tipo_role, df):\n",
    "    gc = cria_credenciais()\n",
    "    \n",
    "    sh = gc.create(nm_sheet)\n",
    "    sh.share(email_share, perm_type='user', role=tipo_role)\n",
    "    \n",
    "    ## \n",
    "    \n",
    "    atualiza_sheets(0, sh.id, df)\n",
    "    return sh"
   ]
  },
  {
   "cell_type": "code",
   "execution_count": 25,
   "metadata": {},
   "outputs": [
    {
     "data": {
      "text/plain": [
       "<Spreadsheet 'Teste 01 Py013' id:1sa8K-sejwrsylA03wPiE8kDsILAw96FYdgx5Jdp-f9E>"
      ]
     },
     "execution_count": 25,
     "metadata": {},
     "output_type": "execute_result"
    }
   ],
   "source": [
    "cria_insere_sheets(\"Teste 01 Py013\", \"lmbr.45@gmail.com\", \"owner\", df_notas)"
   ]
  },
  {
   "cell_type": "code",
   "execution_count": null,
   "metadata": {},
   "outputs": [],
   "source": []
  }
 ],
 "metadata": {
  "kernelspec": {
   "display_name": "Python 3",
   "language": "python",
   "name": "python3"
  },
  "language_info": {
   "codemirror_mode": {
    "name": "ipython",
    "version": 3
   },
   "file_extension": ".py",
   "mimetype": "text/x-python",
   "name": "python",
   "nbconvert_exporter": "python",
   "pygments_lexer": "ipython3",
   "version": "3.7.6"
  }
 },
 "nbformat": 4,
 "nbformat_minor": 4
}
