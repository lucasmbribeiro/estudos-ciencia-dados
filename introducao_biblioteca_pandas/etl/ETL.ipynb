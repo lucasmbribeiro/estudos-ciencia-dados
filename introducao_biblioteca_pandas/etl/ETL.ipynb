{
 "cells": [
  {
   "cell_type": "markdown",
   "metadata": {},
   "source": [
    "<h1 style=\"color: #3e7bac;\"> > Transformação de Dados com Pandas 🐼🐍 </h1>\n",
    "<img src=\"../images/py013_logo.jpeg\" style=\"float:right; height:65px;\">"
   ]
  },
  {
   "cell_type": "code",
   "execution_count": 4,
   "metadata": {},
   "outputs": [],
   "source": [
    "import pandas  as pd\n",
    "\n",
    "df = pd.read_csv('NYC-BikeShare-2015-2017-combined.csv')\n",
    "\n",
    "df['ano'] = pd.DatetimeIndex(df['Start Time']).year\n",
    "\n",
    "df = df[df['ano'] == 2016]\n",
    "\n",
    "del df['Unnamed: 0']\n",
    "del df['Trip Duration']\n",
    "del df['Trip_Duration_in_min']\n",
    "del df['ano']\n",
    "\n",
    "df.columns = ['start', 'end', 'ss_id', 'ss_name', 'ss_lat', 'ss_lon', 'es_id', 'es_name', 'es_lat', 'es_lon'\n",
    "              , 'bike_id', 'usert_type','birth_year', 'gender']\n",
    "\n",
    "df.to_csv('../NY_Bike_.csv', sep=';', index=None)"
   ]
  }
 ],
 "metadata": {
  "kernelspec": {
   "display_name": "Python 3.8.1 64-bit ('notebook-6.0.2': conda)",
   "language": "python",
   "name": "python38164bitnotebook602condae09ce1957608419384caf9aa6a73499d"
  },
  "language_info": {
   "codemirror_mode": {
    "name": "ipython",
    "version": 3
   },
   "file_extension": ".py",
   "mimetype": "text/x-python",
   "name": "python",
   "nbconvert_exporter": "python",
   "pygments_lexer": "ipython3",
   "version": "3.8.1"
  }
 },
 "nbformat": 4,
 "nbformat_minor": 2
}
