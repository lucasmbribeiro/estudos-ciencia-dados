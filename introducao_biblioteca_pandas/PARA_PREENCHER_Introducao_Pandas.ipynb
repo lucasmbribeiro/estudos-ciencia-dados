{
 "cells": [
  {
   "cell_type": "markdown",
   "metadata": {},
   "source": [
    "<h1 style=\"color: #3e7bac; font-size: 45px;\">Transformação de Dados com Pandas <br> 🐼🐍 </h1>\n",
    "<h3 style=\"color: #3e7bac;\"> O Objetivo desse documento e trazer uma breve introdução a biblioteca pandas e como realizar os primeiros plots utilizando pandas e algumas outras bibliotecas. </h3>\n",
    "<h3 style=\"color: #3e7bac;\"> Fica aqui um agradecimento em especial a comunidade Py013 em abrir esse espaço para trocarmos conhecimentos. </h3>\n",
    "\n",
    "<h2 style=\"color: #000;\"> <br> Bora colocar a mão na massa!!! : )</h2>\n",
    "\n",
    "<img src=\"./images/py013_logo.jpeg\" style=\"float:right; height:65px;\"/>"
   ],
   "execution_count": null,
   "outputs": []
  },
  {
   "cell_type": "markdown",
   "metadata": {},
   "source": [
    "## Importa as Bibliotecas Necessárias\n",
    "***"
   ],
   "execution_count": null,
   "outputs": []
  },
  {
   "cell_type": "code",
   "execution_count": null,
   "metadata": {},
   "outputs": [],
   "source": []
  },
  {
   "cell_type": "markdown",
   "metadata": {},
   "source": [
    "## Importa Nossa Base de Dados\n",
    "***"
   ],
   "execution_count": null,
   "outputs": []
  },
  {
   "cell_type": "code",
   "execution_count": null,
   "metadata": {},
   "outputs": [],
   "source": []
  },
  {
   "cell_type": "markdown",
   "metadata": {},
   "source": [
    "### Descobrindo Nossa Base\n",
    "#### Estaremos explorando a base de locação de bicicletas do CityBank na cidade de Nova York, no ano de 2016.\n",
    "### [Link da Base de Dados no Kaggle](https://www.kaggle.com/akkithetechie/new-york-city-bike-share-dataset) <br>\n",
    "Abaixo temos uma descrição de nossa base de dados."
   ],
   "execution_count": null,
   "outputs": []
  },
  {
   "cell_type": "markdown",
   "metadata": {},
   "source": [
    "| Nome da Coluna \t| Descrição                               \t| Valores                                                                             \t|\n",
    "|----------------\t|-----------------------------------------\t|-------------------------------------------------------------------------------------\t|\n",
    "| start          \t| Data de Ínicio da Corrida               \t| Datetime                                                                            \t|\n",
    "| end            \t| Data de Termino da Corrida              \t| Datetime                                                                            \t|\n",
    "| ss_id          \t| Id da Estação de Ínicio (Start Station) \t| **ss_** = Start Station                                                                 \t|\n",
    "| ss_name        \t| Nome da Estação de Ínicio               \t|                                                                                     \t|\n",
    "| ss_lat         \t| Latitude da Estação de Ínicio           \t|                                                                                     \t|\n",
    "| ss_lon         \t| Longitude da Estação de Ínicio          \t|                                                                                     \t|\n",
    "| es_id          \t| Id da Estação de Termino (End Station)  \t| **es_** = End Station                                                                   \t|\n",
    "| es_name        \t| Nome da Estação de Termino              \t|                                                                                     \t|\n",
    "| es_lat         \t| Latitude da Estação de Termino          \t|                                                                                     \t|\n",
    "| es_lon         \t| Longitude da Estação de Termino         \t|                                                                                     \t|\n",
    "| bike_id        \t| Id da Bicicleta                         \t| Identificador da bicicleta                                                          \t|\n",
    "| user_type      \t| Tipo de Usuário                         \t| (**Customer** = Passe de 24 horas; **User** = Passe de 3 dias;  **Subscriber** = Membro Anual) \t|\n",
    "| birth_year     \t| Ano de Nascimento do Usuário            \t| Ano                                                                                 \t|\n",
    "| gender         \t| Gênero                                  \t| (**0** = Desconhecido; **1** = Masculino; **2** = Feminino)                                  \t|"
   ],
   "execution_count": null,
   "outputs": []
  },
  {
   "cell_type": "code",
   "execution_count": null,
   "metadata": {},
   "outputs": [],
   "source": []
  },
  {
   "cell_type": "code",
   "execution_count": null,
   "metadata": {},
   "outputs": [],
   "source": []
  },
  {
   "cell_type": "code",
   "execution_count": null,
   "metadata": {},
   "outputs": [],
   "source": []
  },
  {
   "cell_type": "code",
   "execution_count": null,
   "metadata": {},
   "outputs": [],
   "source": []
  },
  {
   "cell_type": "code",
   "execution_count": null,
   "metadata": {},
   "outputs": [],
   "source": []
  },
  {
   "cell_type": "code",
   "execution_count": null,
   "metadata": {},
   "outputs": [],
   "source": []
  },
  {
   "cell_type": "code",
   "execution_count": null,
   "metadata": {},
   "outputs": [],
   "source": []
  },
  {
   "cell_type": "code",
   "execution_count": null,
   "metadata": {},
   "outputs": [],
   "source": []
  },
  {
   "cell_type": "markdown",
   "metadata": {},
   "source": [
    "## Como adicionar uma coluna calculada?\n",
    "***"
   ],
   "execution_count": null,
   "outputs": []
  },
  {
   "cell_type": "code",
   "execution_count": null,
   "metadata": {},
   "outputs": [],
   "source": []
  },
  {
   "cell_type": "code",
   "execution_count": null,
   "metadata": {},
   "outputs": [],
   "source": []
  },
  {
   "cell_type": "code",
   "execution_count": null,
   "metadata": {},
   "outputs": [],
   "source": []
  },
  {
   "cell_type": "code",
   "execution_count": null,
   "metadata": {},
   "outputs": [],
   "source": []
  },
  {
   "cell_type": "code",
   "execution_count": null,
   "metadata": {},
   "outputs": [],
   "source": []
  },
  {
   "cell_type": "markdown",
   "metadata": {},
   "source": [
    "## Como Excluir uma Coluna?\n",
    "***"
   ],
   "execution_count": null,
   "outputs": []
  },
  {
   "cell_type": "code",
   "execution_count": null,
   "metadata": {},
   "outputs": [],
   "source": []
  },
  {
   "cell_type": "markdown",
   "metadata": {},
   "source": [
    "## Travar um Range do Data Frame\n",
    "\n",
    "#### [Documentação da função loc](https://pandas.pydata.org/pandas-docs/stable/reference/api/pandas.DataFrame.loc.html)\n",
    "***"
   ],
   "execution_count": null,
   "outputs": []
  },
  {
   "cell_type": "code",
   "execution_count": null,
   "metadata": {},
   "outputs": [],
   "source": []
  },
  {
   "cell_type": "markdown",
   "metadata": {},
   "source": [
    "## \"Pivotar\"  e/ou Agrupar o DataFrame\n",
    "\n",
    "#### [Documentação da função pivot_table](https://pandas.pydata.org/pandas-docs/stable/reference/api/pandas.pivot_table.html)\n",
    "#### [Documentação da função groupby](https://pandas.pydata.org/pandas-docs/stable/reference/api/pandas.DataFrame.groupby.html)\n",
    "***"
   ],
   "execution_count": null,
   "outputs": []
  },
  {
   "cell_type": "code",
   "execution_count": null,
   "metadata": {},
   "outputs": [],
   "source": []
  },
  {
   "cell_type": "code",
   "execution_count": null,
   "metadata": {},
   "outputs": [],
   "source": []
  },
  {
   "cell_type": "code",
   "execution_count": null,
   "metadata": {},
   "outputs": [],
   "source": []
  },
  {
   "cell_type": "code",
   "execution_count": null,
   "metadata": {},
   "outputs": [],
   "source": []
  },
  {
   "cell_type": "markdown",
   "metadata": {},
   "source": [
    "# Exploração de Dados\n",
    "***"
   ],
   "execution_count": null,
   "outputs": []
  },
  {
   "cell_type": "markdown",
   "metadata": {},
   "source": [
    "### BoxPlot de uma Métrica\n",
    "\n",
    "#### [Link da documentação do BoxPlot](https://seaborn.pydata.org/generated/seaborn.boxplot.html)\n",
    "---"
   ],
   "execution_count": null,
   "outputs": []
  },
  {
   "cell_type": "code",
   "execution_count": null,
   "metadata": {},
   "outputs": [],
   "source": []
  },
  {
   "cell_type": "markdown",
   "metadata": {},
   "source": [
    "## Tratativa de Outliers\n",
    "#### Vamos fazer de forma bem rápida a remoção de outliers.\n",
    "\n",
    "#### [Recomendo a leitura desse post no Medium](https://towardsdatascience.com/ways-to-detect-and-remove-the-outliers-404d16608dba)\n",
    "---"
   ],
   "execution_count": null,
   "outputs": []
  },
  {
   "cell_type": "code",
   "execution_count": null,
   "metadata": {},
   "outputs": [],
   "source": []
  },
  {
   "cell_type": "code",
   "execution_count": null,
   "metadata": {},
   "outputs": [],
   "source": []
  },
  {
   "cell_type": "markdown",
   "metadata": {},
   "source": [
    "## Qual é a quantidade de corridas que temos mensalmente?\n",
    "\n",
    "#### [Link da documentação do gráfico de barras](https://pandas.pydata.org/pandas-docs/stable/reference/api/pandas.DataFrame.plot.bar.html)\n",
    "---"
   ],
   "execution_count": null,
   "outputs": []
  },
  {
   "cell_type": "code",
   "execution_count": null,
   "metadata": {},
   "outputs": [],
   "source": []
  },
  {
   "cell_type": "markdown",
   "metadata": {},
   "source": [
    "## Como está a distribuição de corridas por dia de semana?\n",
    "\n",
    "Iremos usar a função dayofweek, ela retorna um número inteiro sendo (0 = Segunda-Feira e 6 = Domingo). <br>\n",
    "[Link da Documentação da Função](https://pandas.pydata.org/pandas-docs/stable/reference/api/pandas.Series.dt.dayofweek.html)\n",
    "\n",
    "---"
   ],
   "execution_count": null,
   "outputs": []
  },
  {
   "cell_type": "code",
   "execution_count": null,
   "metadata": {},
   "outputs": [],
   "source": []
  },
  {
   "cell_type": "markdown",
   "metadata": {},
   "source": [
    "## Qual é o horário de maior pico x dia da semana?\n",
    "\n",
    "#### [Link da documentação do heatmap](https://seaborn.pydata.org/generated/seaborn.heatmap.html)\n",
    "---"
   ],
   "execution_count": null,
   "outputs": []
  },
  {
   "cell_type": "code",
   "execution_count": null,
   "metadata": {},
   "outputs": [],
   "source": []
  },
  {
   "cell_type": "markdown",
   "metadata": {},
   "source": [
    "## Quais são 10 as estações com mais starts?\n",
    "\n",
    "#### [Link da documentação da função nlargest](https://pandas.pydata.org/pandas-docs/stable/reference/api/pandas.DataFrame.nlargest.html)\n",
    "---"
   ],
   "execution_count": null,
   "outputs": []
  },
  {
   "cell_type": "code",
   "execution_count": null,
   "metadata": {},
   "outputs": [],
   "source": []
  },
  {
   "cell_type": "markdown",
   "metadata": {},
   "source": [
    "## Qual a % de Corridas que cada tipo de cliente representa?\n",
    "\n",
    "#### [Link da documentação do gráfico de torta](https://pandas.pydata.org/pandas-docs/stable/reference/api/pandas.DataFrame.plot.pie.html)\n",
    "---"
   ],
   "execution_count": null,
   "outputs": []
  },
  {
   "cell_type": "code",
   "execution_count": null,
   "metadata": {},
   "outputs": [],
   "source": []
  },
  {
   "cell_type": "markdown",
   "metadata": {},
   "source": [
    "## Qual a faixa de idade do público que consome nossas bikes?\n",
    "\n",
    "#### [Link da documentação do gráfico de distribuição](https://seaborn.pydata.org/generated/seaborn.scatterplot.html)\n",
    "---"
   ],
   "execution_count": null,
   "outputs": []
  },
  {
   "cell_type": "code",
   "execution_count": null,
   "metadata": {},
   "outputs": [],
   "source": []
  },
  {
   "cell_type": "code",
   "execution_count": null,
   "metadata": {},
   "outputs": [],
   "source": []
  },
  {
   "cell_type": "code",
   "execution_count": null,
   "metadata": {},
   "outputs": [],
   "source": []
  },
  {
   "cell_type": "markdown",
   "metadata": {},
   "source": [
    "# Plus - Mapa Com a Geolocalização\n",
    "\n",
    "### Segue abaixo um exemplo de mapa com Geolocalização, para nós fornecer onde está localizada cada estação de bike.\n",
    "\n",
    "### Utilizei a biblioteca Folium para plotar o mapa, [caso queira ler um pouco mais sobre a biblioteca segue o link](https://python-visualization.github.io/folium/)\n",
    "---"
   ],
   "execution_count": null,
   "outputs": []
  },
  {
   "cell_type": "code",
   "execution_count": null,
   "metadata": {},
   "outputs": [],
   "source": [
    "# IMPORTA AS BIBLIOTECAS NECESSARIAS\n",
    "import folium\n",
    "from folium import plugins\n",
    "\n",
    "# DEFINE UMA FOTO DO MAPA INICIAL, ESTOU SETANDO A CIDADE DE NOVA YORK\n",
    "mapa = folium.Map(location=[40.7293305,-74.0424408],zoom_start=13)\n",
    "\n",
    "# FAZ UM FOR NO DATA FRAME FILTRANDO AS LAT E LON E AGREGANDO QUAIS TIVERAM MAIS CORRIDAS.\n",
    "for _, empresa in df.groupby(['ss_lat', 'ss_lon']).agg({'id_ride':np.count_nonzero}).reset_index().iterrows():\n",
    "    \n",
    "# CHAMA O METODO Marker, PARA FAZER UMA MARCA NO MAPA    \n",
    "    folium.Marker(\n",
    "        \n",
    "# SETA A LOCALIZAÇÃO DA MARCA A SER CRIADA.\n",
    "        \n",
    "        location=[empresa['ss_lat'], empresa['ss_lon']],\n",
    "        \n",
    "# CRIA UM POPUP AO CLICAR NO PONTO, IRA EXEIBIR A QUANTIDADE DE CORRIDAS QUE TEVE.\n",
    "            popup=empresa['id_ride'],\n",
    "        \n",
    "# ADICIONA OS PASSO AO MAPA\n",
    "    ).add_to(mapa)\n",
    "\n",
    "# EXIBE O MAPA\n",
    "mapa"
   ]
  },
  {
   "cell_type": "code",
   "execution_count": null,
   "metadata": {},
   "outputs": [],
   "source": [
    "# EXPORTA O MAPA EM HTML\n",
    "mapa.save('mapa_Station.html')"
   ]
  }
 ],
 "metadata": {
  "kernelspec": {
   "display_name": "Python 3.8.1 64-bit ('notebook-6.0.2': conda)",
   "language": "python",
   "name": "python38164bitnotebook602condae09ce1957608419384caf9aa6a73499d"
  },
  "language_info": {
   "codemirror_mode": {
    "name": "ipython",
    "version": 3
   },
   "file_extension": ".py",
   "mimetype": "text/x-python",
   "name": "python",
   "nbconvert_exporter": "python",
   "pygments_lexer": "ipython3",
   "version": "3.8.1"
  }
 },
 "nbformat": 4,
 "nbformat_minor": 2
}